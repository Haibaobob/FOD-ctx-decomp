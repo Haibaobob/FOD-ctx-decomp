{
 "cells": [
  {
   "cell_type": "markdown",
   "metadata": {},
   "source": [
    "## Extract the sorted peaks from FOD"
   ]
  },
  {
   "cell_type": "code",
   "execution_count": 3,
   "metadata": {},
   "outputs": [],
   "source": [
    "import numpy as np\n",
    "from utils.optimize_util import *\n",
    "import nibabel as nib\n",
    "from utils.extract_util import sorted_peaks\n",
    "\n",
    "FOD_data = nib.load('example/FOD.nii.gz').get_fdata()[..., 0:45]\n",
    "ctx_mask_fname = 'example/lh_ctx_mask.nii.gz'\n",
    "ctx_mask = nib.load(ctx_mask_fname).get_fdata()\n",
    "exp_params = parse_params('configs/__rad_est_default_params_hcp.yaml')\n",
    "\n",
    "peaks = sorted_peaks(FOD_data, exp_params['max_peaks'], ctx_mask, exp_params['relative_threshold'], exp_params['min_separation_angle'], peak_threshold=exp_params['peak_threshold'])\n",
    "peaks_flatted = peaks.reshape(*peaks.shape[0:3], -1)\n",
    "\n",
    "peaks_fname = 'example/lh_peaks.nii.gz'\n",
    "save_nifty_data(peaks_fname, peaks_flatted, ref_file=ctx_mask_fname)"
   ]
  },
  {
   "cell_type": "markdown",
   "metadata": {},
   "source": [
    "## Load Precomputed neighbor_map"
   ]
  },
  {
   "cell_type": "code",
   "execution_count": 4,
   "metadata": {},
   "outputs": [],
   "source": [
    "from utils.stencil_util import get_stencil\n",
    "neighbor_map = nib.load('example/lh_neighbor_6.nii.gz').get_fdata()\n",
    "n_neighbor = exp_params['n_neighbor']\n",
    "stencil_order = get_stencil(n_neighbor)\n"
   ]
  },
  {
   "cell_type": "markdown",
   "metadata": {},
   "source": [
    "## Optimize "
   ]
  },
  {
   "cell_type": "code",
   "execution_count": 6,
   "metadata": {},
   "outputs": [
    {
     "name": "stdout",
     "output_type": "stream",
     "text": [
      "Epoch 1, Loss: -0.5655477658349415\n",
      "Epoch 2, Loss: -0.6573614516055399\n"
     ]
    }
   ],
   "source": [
    "normal = nib.load('example/lh_ctx_normal.nii.gz').get_fdata()\n",
    "\n",
    "# peaks_fname = 'example/lh_peaks.nii.gz'\n",
    "# peaks = nib.load(peaks_fname).get_fdata().reshape(ctx_mask.shape[0:3]+(exp_params['max_peaks'],3))\n",
    "\n",
    "exp_params = parse_params('configs/__rad_est_default_params_hcp.yaml')\n",
    "\n",
    "results = optimize_one(peaks, normal, exp_params, neighbor_mask=neighbor_map, stencil_order=stencil_order)\n",
    "out_prefix = 'example/PeakExtr/lh'\n",
    "save_results_nifty(results, ref_fname=ctx_mask_fname, out_prefix=out_prefix)\n"
   ]
  }
 ],
 "metadata": {
  "kernelspec": {
   "display_name": "torch",
   "language": "python",
   "name": "python3"
  },
  "language_info": {
   "codemirror_mode": {
    "name": "ipython",
    "version": 3
   },
   "file_extension": ".py",
   "mimetype": "text/x-python",
   "name": "python",
   "nbconvert_exporter": "python",
   "pygments_lexer": "ipython3",
   "version": "3.9.13"
  }
 },
 "nbformat": 4,
 "nbformat_minor": 2
}
